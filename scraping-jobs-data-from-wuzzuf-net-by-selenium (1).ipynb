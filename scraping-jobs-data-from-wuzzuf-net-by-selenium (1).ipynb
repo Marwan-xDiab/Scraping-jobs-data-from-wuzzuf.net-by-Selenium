{
 "cells": [
  {
   "cell_type": "markdown",
   "id": "5bdf2b90",
   "metadata": {
    "papermill": {
     "duration": 0.013237,
     "end_time": "2022-07-16T19:04:02.215116",
     "exception": false,
     "start_time": "2022-07-16T19:04:02.201879",
     "status": "completed"
    },
    "tags": []
   },
   "source": [
    "# Scraping jobs data from wuzzuf.net by Selenium"
   ]
  },
  {
   "cell_type": "markdown",
   "id": "722cbaef",
   "metadata": {
    "papermill": {
     "duration": 0.007105,
     "end_time": "2022-07-16T19:04:02.234239",
     "exception": false,
     "start_time": "2022-07-16T19:04:02.227134",
     "status": "completed"
    },
    "tags": []
   },
   "source": [
    "### Import Libraries "
   ]
  },
  {
   "cell_type": "code",
   "execution_count": 1,
   "id": "5ca8543b",
   "metadata": {
    "execution": {
     "iopub.execute_input": "2022-07-16T19:04:02.251566Z",
     "iopub.status.busy": "2022-07-16T19:04:02.250729Z",
     "iopub.status.idle": "2022-07-16T19:04:25.794822Z",
     "shell.execute_reply": "2022-07-16T19:04:25.793664Z"
    },
    "papermill": {
     "duration": 23.556826,
     "end_time": "2022-07-16T19:04:25.798258",
     "exception": false,
     "start_time": "2022-07-16T19:04:02.241432",
     "status": "completed"
    },
    "tags": []
   },
   "outputs": [
    {
     "name": "stdout",
     "output_type": "stream",
     "text": [
      "--2022-07-16 19:04:02--  https://dl.google.com/linux/linux_signing_key.pub\r\n",
      "Resolving dl.google.com (dl.google.com)... 142.250.97.91, 142.250.97.190, 142.250.97.93, ...\r\n",
      "Connecting to dl.google.com (dl.google.com)|142.250.97.91|:443... connected.\r\n",
      "HTTP request sent, awaiting response... 200 OK\r\n",
      "Length: 12415 (12K) [application/octet-stream]\r\n",
      "Saving to: ‘linux_signing_key.pub’\r\n",
      "\r\n",
      "linux_signing_key.p 100%[===================>]  12.12K  --.-KB/s    in 0s      \r\n",
      "\r\n",
      "2022-07-16 19:04:03 (70.9 MB/s) - ‘linux_signing_key.pub’ saved [12415/12415]\r\n",
      "\r\n",
      "OK\r\n",
      "Get:1 http://dl.google.com/linux/chrome/deb stable InRelease [1811 B]\r\n",
      "Get:2 http://packages.cloud.google.com/apt gcsfuse-focal InRelease [5389 B]\r\n",
      "Get:3 https://packages.cloud.google.com/apt cloud-sdk InRelease [6751 B]\r\n",
      "Get:4 https://packages.cloud.google.com/apt google-fast-socket InRelease [5405 B]\r\n",
      "Get:5 http://security.ubuntu.com/ubuntu focal-security InRelease [114 kB]\r\n",
      "Hit:6 http://archive.ubuntu.com/ubuntu focal InRelease\r\n",
      "Get:7 http://dl.google.com/linux/chrome/deb stable/main amd64 Packages [1096 B]\r\n",
      "Get:8 http://archive.ubuntu.com/ubuntu focal-updates InRelease [114 kB]\r\n",
      "Get:9 http://archive.ubuntu.com/ubuntu focal-backports InRelease [108 kB]\r\n",
      "Get:10 https://packages.cloud.google.com/apt cloud-sdk/main amd64 Packages [292 kB]\r\n",
      "Get:11 https://packages.cloud.google.com/apt google-fast-socket/main amd64 Packages [428 B]\r\n",
      "Get:12 https://developer.download.nvidia.com/compute/cuda/repos/ubuntu2004/x86_64  InRelease [1581 B]\r\n",
      "Get:13 http://security.ubuntu.com/ubuntu focal-security/main amd64 Packages [2027 kB]\r\n",
      "Get:14 http://security.ubuntu.com/ubuntu focal-security/restricted amd64 Packages [1398 kB]\r\n",
      "Get:15 http://archive.ubuntu.com/ubuntu focal-updates/universe amd64 Packages [1161 kB]\r\n",
      "Get:16 http://security.ubuntu.com/ubuntu focal-security/universe amd64 Packages [883 kB]\r\n",
      "Get:17 http://archive.ubuntu.com/ubuntu focal-updates/restricted amd64 Packages [1511 kB]\r\n",
      "Get:18 http://archive.ubuntu.com/ubuntu focal-updates/multiverse amd64 Packages [30.2 kB]\r\n",
      "Get:19 http://archive.ubuntu.com/ubuntu focal-updates/main amd64 Packages [2475 kB]\r\n",
      "Get:20 https://developer.download.nvidia.com/compute/cuda/repos/ubuntu2004/x86_64  Packages [581 kB]\r\n",
      "Get:21 http://archive.ubuntu.com/ubuntu focal-backports/universe amd64 Packages [27.1 kB]\r\n",
      "Fetched 10.7 MB in 2s (6922 kB/s)\r\n",
      "\r\n",
      "\r\n",
      "\r\n",
      "\r\n",
      "The following additional packages will be installed:\r\n",
      "  fonts-liberation libgbm1 libu2f-udev libudev1 libwayland-server0 udev\r\n",
      "The following NEW packages will be installed:\r\n",
      "  fonts-liberation google-chrome-stable libgbm1 libu2f-udev libwayland-server0\r\n",
      "  udev\r\n",
      "The following packages will be upgraded:\r\n",
      "  libudev1\r\n",
      "1 upgraded, 6 newly installed, 0 to remove and 62 not upgraded.\r\n",
      "Need to get 88.2 MB of archives.\r\n",
      "After this operation, 293 MB of additional disk space will be used.\r\n",
      "Get:1 http://dl.google.com/linux/chrome/deb stable/main amd64 google-chrome-stable amd64 103.0.5060.114-1 [85.8 MB]\r\n",
      "Get:2 http://archive.ubuntu.com/ubuntu focal/main amd64 fonts-liberation all 1:1.07.4-11 [822 kB]\r\n",
      "Get:3 http://archive.ubuntu.com/ubuntu focal/main amd64 libwayland-server0 amd64 1.18.0-1 [31.6 kB]\r\n",
      "Get:4 http://archive.ubuntu.com/ubuntu focal-updates/main amd64 libgbm1 amd64 21.2.6-0ubuntu0.1~20.04.2 [29.2 kB]\r\n",
      "Get:5 http://archive.ubuntu.com/ubuntu focal-updates/main amd64 libudev1 amd64 245.4-4ubuntu3.17 [76.5 kB]\r\n",
      "Get:6 http://archive.ubuntu.com/ubuntu focal-updates/main amd64 udev amd64 245.4-4ubuntu3.17 [1364 kB]\r\n",
      "Get:7 http://archive.ubuntu.com/ubuntu focal/main amd64 libu2f-udev all 1.1.10-1 [6108 B]\r\n",
      "Fetched 88.2 MB in 1s (102 MB/s)\r\n",
      "Selecting previously unselected package fonts-liberation.\r\n",
      "(Reading database ... 108361 files and directories currently installed.)\r\n",
      "Preparing to unpack .../fonts-liberation_1%3a1.07.4-11_all.deb ...\r\n",
      "Unpacking fonts-liberation (1:1.07.4-11) ...\r\n",
      "Selecting previously unselected package libwayland-server0:amd64.\r\n",
      "Preparing to unpack .../libwayland-server0_1.18.0-1_amd64.deb ...\r\n",
      "Unpacking libwayland-server0:amd64 (1.18.0-1) ...\r\n",
      "Selecting previously unselected package libgbm1:amd64.\r\n",
      "Preparing to unpack .../libgbm1_21.2.6-0ubuntu0.1~20.04.2_amd64.deb ...\r\n",
      "Unpacking libgbm1:amd64 (21.2.6-0ubuntu0.1~20.04.2) ...\r\n",
      "Selecting previously unselected package google-chrome-stable.\r\n",
      "Preparing to unpack .../google-chrome-stable_103.0.5060.114-1_amd64.deb ...\r\n",
      "Unpacking google-chrome-stable (103.0.5060.114-1) ...\r\n",
      "Preparing to unpack .../libudev1_245.4-4ubuntu3.17_amd64.deb ...\r\n",
      "Unpacking libudev1:amd64 (245.4-4ubuntu3.17) over (245.4-4ubuntu3.16) ...\r\n",
      "Setting up libudev1:amd64 (245.4-4ubuntu3.17) ...\r\n",
      "Selecting previously unselected package udev.\r\n",
      "(Reading database ... 108513 files and directories currently installed.)\r\n",
      "Preparing to unpack .../udev_245.4-4ubuntu3.17_amd64.deb ...\r\n",
      "Unpacking udev (245.4-4ubuntu3.17) ...\r\n",
      "Selecting previously unselected package libu2f-udev.\r\n",
      "Preparing to unpack .../libu2f-udev_1.1.10-1_all.deb ...\r\n",
      "Unpacking libu2f-udev (1.1.10-1) ...\r\n",
      "Setting up libwayland-server0:amd64 (1.18.0-1) ...\r\n",
      "Setting up libgbm1:amd64 (21.2.6-0ubuntu0.1~20.04.2) ...\r\n",
      "Setting up udev (245.4-4ubuntu3.17) ...\r\n",
      "invoke-rc.d: could not determine current runlevel\r\n",
      "invoke-rc.d: policy-rc.d denied execution of start.\r\n",
      "Setting up fonts-liberation (1:1.07.4-11) ...\r\n",
      "Setting up google-chrome-stable (103.0.5060.114-1) ...\r\n",
      "update-alternatives: using /usr/bin/google-chrome-stable to provide /usr/bin/x-www-browser (x-www-browser) in auto mode\r\n",
      "update-alternatives: using /usr/bin/google-chrome-stable to provide /usr/bin/gnome-www-browser (gnome-www-browser) in auto mode\r\n",
      "update-alternatives: using /usr/bin/google-chrome-stable to provide /usr/bin/google-chrome (google-chrome) in auto mode\r\n",
      "Setting up libu2f-udev (1.1.10-1) ...\r\n",
      "Failed to send reload request: No such file or directory\r\n",
      "Processing triggers for systemd (245.4-4ubuntu3.17) ...\r\n",
      "Processing triggers for man-db (2.9.1-1) ...\r\n",
      "Processing triggers for fontconfig (2.13.1-2ubuntu3) ...\r\n",
      "Processing triggers for mime-support (3.64ubuntu1) ...\r\n",
      "Processing triggers for libc-bin (2.31-0ubuntu9.7) ...\r\n"
     ]
    }
   ],
   "source": [
    "# install google chrome\n",
    "!wget https://dl.google.com/linux/linux_signing_key.pub\n",
    "!sudo apt-key add linux_signing_key.pub\n",
    "!echo 'deb [arch=amd64] http://dl.google.com/linux/chrome/deb/ stable main' >> /etc/apt/sources.list.d/google-chrome.list\n",
    "!sudo apt-get -y update\n",
    "!sudo apt-get install -y google-chrome-stable"
   ]
  },
  {
   "cell_type": "code",
   "execution_count": 2,
   "id": "a748fe07",
   "metadata": {
    "execution": {
     "iopub.execute_input": "2022-07-16T19:04:25.843540Z",
     "iopub.status.busy": "2022-07-16T19:04:25.842843Z",
     "iopub.status.idle": "2022-07-16T19:04:27.902063Z",
     "shell.execute_reply": "2022-07-16T19:04:27.900973Z"
    },
    "papermill": {
     "duration": 2.083662,
     "end_time": "2022-07-16T19:04:27.904455",
     "exception": false,
     "start_time": "2022-07-16T19:04:25.820793",
     "status": "completed"
    },
    "tags": []
   },
   "outputs": [
    {
     "name": "stdout",
     "output_type": "stream",
     "text": [
      "--2022-07-16 19:04:26--  http://chromedriver.storage.googleapis.com/103.0.5060.53/chromedriver_linux64.zip\r\n",
      "Resolving chromedriver.storage.googleapis.com (chromedriver.storage.googleapis.com)... 172.217.203.128, 2607:f8b0:400c:c07::80\r\n",
      "Connecting to chromedriver.storage.googleapis.com (chromedriver.storage.googleapis.com)|172.217.203.128|:80... connected.\r\n",
      "HTTP request sent, awaiting response... 200 OK\r\n",
      "Length: 7052799 (6.7M) [application/zip]\r\n",
      "Saving to: ‘/tmp/chromedriver.zip’\r\n",
      "\r\n",
      "/tmp/chromedriver.z 100%[===================>]   6.73M  --.-KB/s    in 0.02s   \r\n",
      "\r\n",
      "2022-07-16 19:04:26 (380 MB/s) - ‘/tmp/chromedriver.zip’ saved [7052799/7052799]\r\n",
      "\r\n",
      "Archive:  /tmp/chromedriver.zip\r\n",
      "  inflating: /usr/local/bin/chromedriver  \r\n"
     ]
    }
   ],
   "source": [
    "# install chromedriver\n",
    "# !apt-get install -y qq unzip\n",
    "!wget -O /tmp/chromedriver.zip http://chromedriver.storage.googleapis.com/`curl -sS chromedriver.storage.googleapis.com/LATEST_RELEASE`/chromedriver_linux64.zip\n",
    "!unzip /tmp/chromedriver.zip chromedriver -d /usr/local/bin/"
   ]
  },
  {
   "cell_type": "code",
   "execution_count": 3,
   "id": "94c2b910",
   "metadata": {
    "execution": {
     "iopub.execute_input": "2022-07-16T19:04:27.931899Z",
     "iopub.status.busy": "2022-07-16T19:04:27.931587Z",
     "iopub.status.idle": "2022-07-16T19:04:55.278144Z",
     "shell.execute_reply": "2022-07-16T19:04:55.277014Z"
    },
    "papermill": {
     "duration": 27.363115,
     "end_time": "2022-07-16T19:04:55.280844",
     "exception": false,
     "start_time": "2022-07-16T19:04:27.917729",
     "status": "completed"
    },
    "tags": []
   },
   "outputs": [
    {
     "name": "stdout",
     "output_type": "stream",
     "text": [
      "\r\n",
      "\r\n",
      "\r\n",
      "The following additional packages will be installed:\r\n",
      "  apparmor chromium-browser chromium-chromedriver liblzo2-2 snapd\r\n",
      "  squashfs-tools\r\n",
      "Suggested packages:\r\n",
      "  apparmor-profiles-extra apparmor-utils zenity | kdialog\r\n",
      "The following NEW packages will be installed:\r\n",
      "  apparmor chromium-browser chromium-chromedriver liblzo2-2 python3-selenium\r\n",
      "  snapd squashfs-tools\r\n",
      "0 upgraded, 7 newly installed, 0 to remove and 62 not upgraded.\r\n",
      "Need to get 36.4 MB of archives.\r\n",
      "After this operation, 154 MB of additional disk space will be used.\r\n",
      "Get:1 http://archive.ubuntu.com/ubuntu focal-updates/main amd64 apparmor amd64 2.13.3-7ubuntu5.1 [494 kB]\r\n",
      "Get:2 http://archive.ubuntu.com/ubuntu focal/main amd64 liblzo2-2 amd64 2.10-2 [50.8 kB]\r\n",
      "Get:3 http://archive.ubuntu.com/ubuntu focal-updates/main amd64 squashfs-tools amd64 1:4.4-1ubuntu0.3 [117 kB]\r\n",
      "Get:4 http://archive.ubuntu.com/ubuntu focal-updates/main amd64 snapd amd64 2.55.5+20.04 [35.6 MB]\r\n",
      "Get:5 http://archive.ubuntu.com/ubuntu focal-updates/universe amd64 chromium-browser amd64 1:85.0.4183.83-0ubuntu0.20.04.2 [48.3 kB]\r\n",
      "Get:6 http://archive.ubuntu.com/ubuntu focal-updates/universe amd64 chromium-chromedriver amd64 1:85.0.4183.83-0ubuntu0.20.04.2 [2496 B]\r\n",
      "Get:7 http://archive.ubuntu.com/ubuntu focal/universe amd64 python3-selenium all 4.0.0~a1+dfsg1-1.1 [86.2 kB]\r\n",
      "Fetched 36.4 MB in 3s (11.9 MB/s)\r\n",
      "Preconfiguring packages ...\r\n",
      "\n",
      "\u001b7\u001b[0;23r\u001b8\u001b[1ASelecting previously unselected package apparmor.\r\n",
      "(Reading database ... 108631 files and directories currently installed.)\r\n",
      "Preparing to unpack .../apparmor_2.13.3-7ubuntu5.1_amd64.deb ...\r\n",
      "\u001b7\u001b[24;0f\u001b[42m\u001b[30mProgress: [  0%]\u001b[49m\u001b[39m [..........................................................] \u001b8\u001b7\u001b[24;0f\u001b[42m\u001b[30mProgress: [  3%]\u001b[49m\u001b[39m [##........................................................] \u001b8Unpacking apparmor (2.13.3-7ubuntu5.1) ...\r\n",
      "\u001b7\u001b[24;0f\u001b[42m\u001b[30mProgress: [  7%]\u001b[49m\u001b[39m [####......................................................] \u001b8Selecting previously unselected package liblzo2-2:amd64.\r\n",
      "Preparing to unpack .../liblzo2-2_2.10-2_amd64.deb ...\r\n",
      "\u001b7\u001b[24;0f\u001b[42m\u001b[30mProgress: [ 10%]\u001b[49m\u001b[39m [######....................................................] \u001b8Unpacking liblzo2-2:amd64 (2.10-2) ...\r\n",
      "\u001b7\u001b[24;0f\u001b[42m\u001b[30mProgress: [ 14%]\u001b[49m\u001b[39m [########..................................................] \u001b8Selecting previously unselected package squashfs-tools.\r\n",
      "Preparing to unpack .../squashfs-tools_1%3a4.4-1ubuntu0.3_amd64.deb ...\r\n",
      "\u001b7\u001b[24;0f\u001b[42m\u001b[30mProgress: [ 17%]\u001b[49m\u001b[39m [#########.................................................] \u001b8Unpacking squashfs-tools (1:4.4-1ubuntu0.3) ...\r\n",
      "\u001b7\u001b[24;0f\u001b[42m\u001b[30mProgress: [ 21%]\u001b[49m\u001b[39m [############..............................................] \u001b8Selecting previously unselected package snapd.\r\n",
      "Preparing to unpack .../snapd_2.55.5+20.04_amd64.deb ...\r\n",
      "\u001b7\u001b[24;0f\u001b[42m\u001b[30mProgress: [ 24%]\u001b[49m\u001b[39m [##############............................................] \u001b8Unpacking snapd (2.55.5+20.04) ...\r\n",
      "\u001b7\u001b[24;0f\u001b[42m\u001b[30mProgress: [ 28%]\u001b[49m\u001b[39m [################..........................................] \u001b8Setting up apparmor (2.13.3-7ubuntu5.1) ...\r\n",
      "\u001b7\u001b[24;0f\u001b[42m\u001b[30mProgress: [ 31%]\u001b[49m\u001b[39m [##################........................................] \u001b8Created symlink /etc/systemd/system/sysinit.target.wants/apparmor.service → /lib/systemd/system/apparmor.service.\r\n",
      "\u001b7\u001b[24;0f\u001b[42m\u001b[30mProgress: [ 34%]\u001b[49m\u001b[39m [###################.......................................] \u001b8Setting up liblzo2-2:amd64 (2.10-2) ...\r\n",
      "\u001b7\u001b[24;0f\u001b[42m\u001b[30mProgress: [ 38%]\u001b[49m\u001b[39m [######################....................................] \u001b8\u001b7\u001b[24;0f\u001b[42m\u001b[30mProgress: [ 41%]\u001b[49m\u001b[39m [########################..................................] \u001b8Setting up squashfs-tools (1:4.4-1ubuntu0.3) ...\r\n",
      "\u001b7\u001b[24;0f\u001b[42m\u001b[30mProgress: [ 45%]\u001b[49m\u001b[39m [##########################................................] \u001b8\u001b7\u001b[24;0f\u001b[42m\u001b[30mProgress: [ 48%]\u001b[49m\u001b[39m [############################..............................] \u001b8Setting up snapd (2.55.5+20.04) ...\r\n",
      "\u001b7\u001b[24;0f\u001b[42m\u001b[30mProgress: [ 52%]\u001b[49m\u001b[39m [#############################.............................] \u001b8Created symlink /etc/systemd/system/multi-user.target.wants/snapd.apparmor.service → /lib/systemd/system/snapd.apparmor.service.\r\n",
      "Created symlink /etc/systemd/system/multi-user.target.wants/snapd.autoimport.service → /lib/systemd/system/snapd.autoimport.service.\r\n",
      "Created symlink /etc/systemd/system/multi-user.target.wants/snapd.core-fixup.service → /lib/systemd/system/snapd.core-fixup.service.\r\n",
      "Created symlink /etc/systemd/system/multi-user.target.wants/snapd.recovery-chooser-trigger.service → /lib/systemd/system/snapd.recovery-chooser-trigger.service.\r\n",
      "Created symlink /etc/systemd/system/multi-user.target.wants/snapd.seeded.service → /lib/systemd/system/snapd.seeded.service.\r\n",
      "Created symlink /etc/systemd/system/cloud-final.service.wants/snapd.seeded.service → /lib/systemd/system/snapd.seeded.service.\r\n",
      "Created symlink /etc/systemd/system/multi-user.target.wants/snapd.service → /lib/systemd/system/snapd.service.\r\n",
      "Created symlink /etc/systemd/system/timers.target.wants/snapd.snap-repair.timer → /lib/systemd/system/snapd.snap-repair.timer.\r\n",
      "Created symlink /etc/systemd/system/sockets.target.wants/snapd.socket → /lib/systemd/system/snapd.socket.\r\n",
      "Created symlink /etc/systemd/system/final.target.wants/snapd.system-shutdown.service → /lib/systemd/system/snapd.system-shutdown.service.\r\n",
      "\u001b7\u001b[24;0f\u001b[42m\u001b[30mProgress: [ 55%]\u001b[49m\u001b[39m [################################..........................] \u001b8Selecting previously unselected package chromium-browser.\r\n",
      "(Reading database ... 108915 files and directories currently installed.)\r\n",
      "Preparing to unpack .../chromium-browser_1%3a85.0.4183.83-0ubuntu0.20.04.2_amd64.deb ...\r\n",
      "\u001b7\u001b[24;0f\u001b[42m\u001b[30mProgress: [ 59%]\u001b[49m\u001b[39m [##################################........................] \u001b8=> Installing the chromium snap\r\n",
      "==> Checking connectivity with the snap store\r\n",
      "===> System doesn't have a working snapd, skipping\r\n",
      "Unpacking chromium-browser (1:85.0.4183.83-0ubuntu0.20.04.2) ...\r\n",
      "\u001b7\u001b[24;0f\u001b[42m\u001b[30mProgress: [ 62%]\u001b[49m\u001b[39m [####################################......................] \u001b8Selecting previously unselected package chromium-chromedriver.\r\n",
      "Preparing to unpack .../chromium-chromedriver_1%3a85.0.4183.83-0ubuntu0.20.04.2_amd64.deb ...\r\n",
      "\u001b7\u001b[24;0f\u001b[42m\u001b[30mProgress: [ 66%]\u001b[49m\u001b[39m [######################################....................] \u001b8Unpacking chromium-chromedriver (1:85.0.4183.83-0ubuntu0.20.04.2) ...\r\n",
      "\u001b7\u001b[24;0f\u001b[42m\u001b[30mProgress: [ 69%]\u001b[49m\u001b[39m [#######################################...................] \u001b8Selecting previously unselected package python3-selenium.\r\n",
      "Preparing to unpack .../python3-selenium_4.0.0~a1+dfsg1-1.1_all.deb ...\r\n",
      "\u001b7\u001b[24;0f\u001b[42m\u001b[30mProgress: [ 72%]\u001b[49m\u001b[39m [##########################################................] \u001b8Unpacking python3-selenium (4.0.0~a1+dfsg1-1.1) ...\r\n",
      "\u001b7\u001b[24;0f\u001b[42m\u001b[30mProgress: [ 76%]\u001b[49m\u001b[39m [############################################..............] \u001b8Setting up python3-selenium (4.0.0~a1+dfsg1-1.1) ...\r\n",
      "\u001b7\u001b[24;0f\u001b[42m\u001b[30mProgress: [ 79%]\u001b[49m\u001b[39m [##############################################............] \u001b8\u001b7\u001b[24;0f\u001b[42m\u001b[30mProgress: [ 83%]\u001b[49m\u001b[39m [################################################..........] \u001b8Setting up chromium-browser (1:85.0.4183.83-0ubuntu0.20.04.2) ...\r\n",
      "\u001b7\u001b[24;0f\u001b[42m\u001b[30mProgress: [ 86%]\u001b[49m\u001b[39m [##################################################........] \u001b8\u001b7\u001b[24;0f\u001b[42m\u001b[30mProgress: [ 90%]\u001b[49m\u001b[39m [####################################################......] \u001b8Setting up chromium-chromedriver (1:85.0.4183.83-0ubuntu0.20.04.2) ...\r\n",
      "\u001b7\u001b[24;0f\u001b[42m\u001b[30mProgress: [ 93%]\u001b[49m\u001b[39m [#####################################################.....] \u001b8\u001b7\u001b[24;0f\u001b[42m\u001b[30mProgress: [ 97%]\u001b[49m\u001b[39m [########################################################..] \u001b8Processing triggers for mime-support (3.64ubuntu1) ...\r\n",
      "Processing triggers for hicolor-icon-theme (0.17-2) ...\r\n",
      "Processing triggers for libc-bin (2.31-0ubuntu9.7) ...\r\n",
      "Processing triggers for systemd (245.4-4ubuntu3.17) ...\r\n",
      "Processing triggers for man-db (2.9.1-1) ...\r\n",
      "Processing triggers for dbus (1.12.16-2ubuntu2.2) ...\r\n",
      "\r\n",
      "\u001b7\u001b[0;24r\u001b8\u001b[1A\u001b[J\u001b[33mWARNING: Running pip as the 'root' user can result in broken permissions and conflicting behaviour with the system package manager. It is recommended to use a virtual environment instead: https://pip.pypa.io/warnings/venv\u001b[0m\u001b[33m\r\n",
      "\u001b[0m"
     ]
    }
   ],
   "source": [
    "# install selenium\n",
    "!sudo apt install -y python3-selenium\n",
    "!pip install selenium==3.141.0 > /dev/null"
   ]
  },
  {
   "cell_type": "code",
   "execution_count": 4,
   "id": "f346f06f",
   "metadata": {
    "execution": {
     "iopub.execute_input": "2022-07-16T19:04:55.316479Z",
     "iopub.status.busy": "2022-07-16T19:04:55.316141Z",
     "iopub.status.idle": "2022-07-16T19:04:56.037829Z",
     "shell.execute_reply": "2022-07-16T19:04:56.036682Z"
    },
    "papermill": {
     "duration": 0.74237,
     "end_time": "2022-07-16T19:04:56.040396",
     "exception": false,
     "start_time": "2022-07-16T19:04:55.298026",
     "status": "completed"
    },
    "tags": []
   },
   "outputs": [
    {
     "name": "stdout",
     "output_type": "stream",
     "text": [
      "Google Chrome 103.0.5060.114 \r\n"
     ]
    }
   ],
   "source": [
    "# To check Google Chrome's version\n",
    "!google-chrome --version"
   ]
  },
  {
   "cell_type": "code",
   "execution_count": 5,
   "id": "87b45c78",
   "metadata": {
    "execution": {
     "iopub.execute_input": "2022-07-16T19:04:56.075969Z",
     "iopub.status.busy": "2022-07-16T19:04:56.075646Z",
     "iopub.status.idle": "2022-07-16T19:04:56.759407Z",
     "shell.execute_reply": "2022-07-16T19:04:56.758037Z"
    },
    "papermill": {
     "duration": 0.704501,
     "end_time": "2022-07-16T19:04:56.762412",
     "exception": false,
     "start_time": "2022-07-16T19:04:56.057911",
     "status": "completed"
    },
    "tags": []
   },
   "outputs": [
    {
     "name": "stdout",
     "output_type": "stream",
     "text": [
      "ChromeDriver 103.0.5060.53 (a1711811edd74ff1cf2150f36ffa3b0dae40b17f-refs/branch-heads/5060@{#853})\r\n"
     ]
    }
   ],
   "source": [
    "# To check Chrome Driver's version\n",
    "!chromedriver -v"
   ]
  },
  {
   "cell_type": "code",
   "execution_count": 6,
   "id": "657c0327",
   "metadata": {
    "execution": {
     "iopub.execute_input": "2022-07-16T19:04:56.799580Z",
     "iopub.status.busy": "2022-07-16T19:04:56.799171Z",
     "iopub.status.idle": "2022-07-16T19:04:56.831666Z",
     "shell.execute_reply": "2022-07-16T19:04:56.830617Z"
    },
    "papermill": {
     "duration": 0.054005,
     "end_time": "2022-07-16T19:04:56.834061",
     "exception": false,
     "start_time": "2022-07-16T19:04:56.780056",
     "status": "completed"
    },
    "tags": []
   },
   "outputs": [],
   "source": [
    "import pandas as pd \n",
    "from selenium import webdriver\n",
    "from selenium.webdriver.chrome.options import Options\n",
    "from selenium.webdriver.common.keys import Keys\n",
    "import time\n",
    "from PIL import Image\n",
    "from selenium.webdriver.common.by import By"
   ]
  },
  {
   "cell_type": "markdown",
   "id": "31d5f9af",
   "metadata": {
    "papermill": {
     "duration": 0.016756,
     "end_time": "2022-07-16T19:04:56.868623",
     "exception": false,
     "start_time": "2022-07-16T19:04:56.851867",
     "status": "completed"
    },
    "tags": []
   },
   "source": [
    "### Initialize &Open New Driver session "
   ]
  },
  {
   "cell_type": "code",
   "execution_count": 7,
   "id": "23d35c12",
   "metadata": {
    "execution": {
     "iopub.execute_input": "2022-07-16T19:04:56.905968Z",
     "iopub.status.busy": "2022-07-16T19:04:56.904794Z",
     "iopub.status.idle": "2022-07-16T19:04:58.574071Z",
     "shell.execute_reply": "2022-07-16T19:04:58.572884Z"
    },
    "papermill": {
     "duration": 1.690295,
     "end_time": "2022-07-16T19:04:58.576580",
     "exception": false,
     "start_time": "2022-07-16T19:04:56.886285",
     "status": "completed"
    },
    "tags": []
   },
   "outputs": [],
   "source": [
    "\n",
    "chrome_options = webdriver.ChromeOptions()\n",
    "chrome_options.add_argument('--no-sandbox')\n",
    "chrome_options.add_argument('--headless')\n",
    "chrome_options.add_argument('--disable-gpu')\n",
    "chrome_options.add_argument('--disable-dev-shm-usage')\n",
    "chrome_options.add_argument('--incognito')\n",
    "chrome_options.add_argument('--start-maximized')\n",
    "chrome_options.add_argument(\"--window-size=1920,1080\")\n",
    "chrome_options.add_argument('-disk-cache-size-300000000000')\n",
    "driver = webdriver.Chrome(options=chrome_options)\n"
   ]
  },
  {
   "cell_type": "code",
   "execution_count": 8,
   "id": "5020cc9b",
   "metadata": {
    "execution": {
     "iopub.execute_input": "2022-07-16T19:04:58.613516Z",
     "iopub.status.busy": "2022-07-16T19:04:58.613152Z",
     "iopub.status.idle": "2022-07-16T19:04:58.617126Z",
     "shell.execute_reply": "2022-07-16T19:04:58.616113Z"
    },
    "papermill": {
     "duration": 0.024351,
     "end_time": "2022-07-16T19:04:58.619303",
     "exception": false,
     "start_time": "2022-07-16T19:04:58.594952",
     "status": "completed"
    },
    "tags": []
   },
   "outputs": [],
   "source": [
    "#Open wuzzuf.net in Chrome Driver session\n",
    "#driver.get(r'https://wuzzuf.net/login?ref=g_menu')"
   ]
  },
  {
   "cell_type": "code",
   "execution_count": 9,
   "id": "8bdab142",
   "metadata": {
    "execution": {
     "iopub.execute_input": "2022-07-16T19:04:58.654740Z",
     "iopub.status.busy": "2022-07-16T19:04:58.653890Z",
     "iopub.status.idle": "2022-07-16T19:04:58.658678Z",
     "shell.execute_reply": "2022-07-16T19:04:58.657784Z"
    },
    "papermill": {
     "duration": 0.024507,
     "end_time": "2022-07-16T19:04:58.660515",
     "exception": false,
     "start_time": "2022-07-16T19:04:58.636008",
     "status": "completed"
    },
    "tags": []
   },
   "outputs": [],
   "source": [
    "#Login to wuzzuf.net\n",
    "#driver.find_element_by_css_selector(\"input[class='css-1ldpk49 e1n2h7jb1']\").send_keys('@gmail.com')#usename\n",
    "#driver.find_element_by_css_selector(\"input[name='password']\").send_keys(\"\")#password\n",
    "#driver.find_element_by_css_selector(\"button[class='css-14ghl4e ezfki8j0']\").click() #Login"
   ]
  },
  {
   "cell_type": "markdown",
   "id": "5a9b411d",
   "metadata": {
    "papermill": {
     "duration": 0.017432,
     "end_time": "2022-07-16T19:04:58.694819",
     "exception": false,
     "start_time": "2022-07-16T19:04:58.677387",
     "status": "completed"
    },
    "tags": []
   },
   "source": [
    "### Scrape job data on wuzzuf "
   ]
  },
  {
   "cell_type": "code",
   "execution_count": 10,
   "id": "ab4d4d5a",
   "metadata": {
    "execution": {
     "iopub.execute_input": "2022-07-16T19:04:58.730669Z",
     "iopub.status.busy": "2022-07-16T19:04:58.729028Z",
     "iopub.status.idle": "2022-07-16T19:05:06.025014Z",
     "shell.execute_reply": "2022-07-16T19:05:06.024004Z"
    },
    "papermill": {
     "duration": 7.318093,
     "end_time": "2022-07-16T19:05:06.029415",
     "exception": false,
     "start_time": "2022-07-16T19:04:58.711322",
     "status": "completed"
    },
    "tags": []
   },
   "outputs": [],
   "source": [
    "# Go to this link and click on search\n",
    "driver.get(r'https://wuzzuf.net/search/jobs/?q=&a=navbl')\n",
    "time.sleep(2)\n",
    "Serach_Input=driver.find_element_by_css_selector(\"input[placeholder='Search by Job Title, Keywords, or Location (e.g. Sales in Cairo)']\")   \n",
    "Serach_Input.send_keys(Keys.ENTER)"
   ]
  },
  {
   "cell_type": "code",
   "execution_count": 11,
   "id": "75c179eb",
   "metadata": {
    "execution": {
     "iopub.execute_input": "2022-07-16T19:05:06.073071Z",
     "iopub.status.busy": "2022-07-16T19:05:06.072721Z",
     "iopub.status.idle": "2022-07-16T19:05:06.087953Z",
     "shell.execute_reply": "2022-07-16T19:05:06.087082Z"
    },
    "papermill": {
     "duration": 0.039278,
     "end_time": "2022-07-16T19:05:06.089926",
     "exception": false,
     "start_time": "2022-07-16T19:05:06.050648",
     "status": "completed"
    },
    "tags": []
   },
   "outputs": [],
   "source": [
    "# Create DataFrame \"AllJobs\" to store all data\n",
    "AllJobs = pd.DataFrame(columns=[\"Title\",\"Company\",\"Location\",\"Time\",\"Type\"])"
   ]
  },
  {
   "cell_type": "markdown",
   "id": "414b8410",
   "metadata": {
    "papermill": {
     "duration": 0.036118,
     "end_time": "2022-07-16T19:05:06.152652",
     "exception": false,
     "start_time": "2022-07-16T19:05:06.116534",
     "status": "completed"
    },
    "tags": []
   },
   "source": [
    "### Scrape 100 Data Point for test"
   ]
  },
  {
   "cell_type": "code",
   "execution_count": 12,
   "id": "dca7818d",
   "metadata": {
    "execution": {
     "iopub.execute_input": "2022-07-16T19:05:06.235935Z",
     "iopub.status.busy": "2022-07-16T19:05:06.235385Z",
     "iopub.status.idle": "2022-07-16T19:05:49.660600Z",
     "shell.execute_reply": "2022-07-16T19:05:49.659581Z"
    },
    "papermill": {
     "duration": 43.475381,
     "end_time": "2022-07-16T19:05:49.663025",
     "exception": false,
     "start_time": "2022-07-16T19:05:06.187644",
     "status": "completed"
    },
    "tags": []
   },
   "outputs": [],
   "source": [
    "while driver.find_element_by_css_selector(\"button[class='css-zye1os ezfki8j0']\"):\n",
    "    if len(AllJobs) >= 100 : #stop when AllJobs have 100 Data Point\n",
    "        break \n",
    "    count= 1\n",
    "    Job_Elements=driver.find_elements_by_css_selector(\"div[class='css-1gatmva e1v1l3u10']\") \n",
    "    for job in Job_Elements :\n",
    "        job_Title=(job.find_element_by_css_selector(\"a[class='css-o171kl']\").text)\n",
    "        Company=(job.find_element_by_css_selector(\"a[class='css-17s97q8']\").text)\n",
    "        Location=(job.find_element_by_css_selector(\"span[class='css-5wys0k']\").text)        \n",
    "        Time=(job.find_element_by_css_selector(\"div[class='css-d7j1kk']\").find_element_by_css_selector(\"div\").text)       \n",
    "        Type=(job.find_element_by_css_selector(\"span[class='css-1ve4b75 eoyjyou0']\").text)\n",
    "        count=count+1\n",
    "        AllJobs = AllJobs.append({\"Title\":job_Title, \"Company\":Company, \"Location\":Location, 'Time':Time,\n",
    "        \"Type\":Type}, ignore_index=True)\n",
    "    driver.find_elements_by_css_selector(\"button[class='css-zye1os ezfki8j0']\")[-1].click()\n",
    "    time.sleep(4)"
   ]
  },
  {
   "cell_type": "code",
   "execution_count": 13,
   "id": "1911d1db",
   "metadata": {
    "execution": {
     "iopub.execute_input": "2022-07-16T19:05:49.698540Z",
     "iopub.status.busy": "2022-07-16T19:05:49.697710Z",
     "iopub.status.idle": "2022-07-16T19:05:49.718900Z",
     "shell.execute_reply": "2022-07-16T19:05:49.717960Z"
    },
    "papermill": {
     "duration": 0.041087,
     "end_time": "2022-07-16T19:05:49.721063",
     "exception": false,
     "start_time": "2022-07-16T19:05:49.679976",
     "status": "completed"
    },
    "tags": []
   },
   "outputs": [
    {
     "name": "stdout",
     "output_type": "stream",
     "text": [
      "(105, 5)\n"
     ]
    },
    {
     "data": {
      "text/html": [
       "<div>\n",
       "<style scoped>\n",
       "    .dataframe tbody tr th:only-of-type {\n",
       "        vertical-align: middle;\n",
       "    }\n",
       "\n",
       "    .dataframe tbody tr th {\n",
       "        vertical-align: top;\n",
       "    }\n",
       "\n",
       "    .dataframe thead th {\n",
       "        text-align: right;\n",
       "    }\n",
       "</style>\n",
       "<table border=\"1\" class=\"dataframe\">\n",
       "  <thead>\n",
       "    <tr style=\"text-align: right;\">\n",
       "      <th></th>\n",
       "      <th>Title</th>\n",
       "      <th>Company</th>\n",
       "      <th>Location</th>\n",
       "      <th>Time</th>\n",
       "      <th>Type</th>\n",
       "    </tr>\n",
       "  </thead>\n",
       "  <tbody>\n",
       "    <tr>\n",
       "      <th>0</th>\n",
       "      <td>Customer Service Agent VOIS Non-Cairo\\Giza\\Ale...</td>\n",
       "      <td>_VOIS Egypt -</td>\n",
       "      <td>Cairo, Egypt</td>\n",
       "      <td>2 hours ago</td>\n",
       "      <td>Full Time</td>\n",
       "    </tr>\n",
       "    <tr>\n",
       "      <th>1</th>\n",
       "      <td>Media buyer</td>\n",
       "      <td>Hatolna -</td>\n",
       "      <td>Heliopolis, Cairo, Egypt</td>\n",
       "      <td>1 hour ago</td>\n",
       "      <td>Full Time</td>\n",
       "    </tr>\n",
       "    <tr>\n",
       "      <th>2</th>\n",
       "      <td>Sales Representative - Memberships Cairo</td>\n",
       "      <td>Wadi Degla Group -</td>\n",
       "      <td>Nasr City, Cairo, Egypt</td>\n",
       "      <td>52 minutes ago</td>\n",
       "      <td>Full Time</td>\n",
       "    </tr>\n",
       "    <tr>\n",
       "      <th>3</th>\n",
       "      <td>Purchasing Engineer – Fleet &amp; Heavy Equipment</td>\n",
       "      <td>Elmarakby Steel -</td>\n",
       "      <td>6th of October, Giza, Egypt</td>\n",
       "      <td>49 minutes ago</td>\n",
       "      <td>Full Time</td>\n",
       "    </tr>\n",
       "    <tr>\n",
       "      <th>4</th>\n",
       "      <td>Purchasing Engineer – Mechanical Spare Parts</td>\n",
       "      <td>Elmarakby Steel -</td>\n",
       "      <td>6th of October, Giza, Egypt</td>\n",
       "      <td>45 minutes ago</td>\n",
       "      <td>Full Time</td>\n",
       "    </tr>\n",
       "    <tr>\n",
       "      <th>...</th>\n",
       "      <td>...</td>\n",
       "      <td>...</td>\n",
       "      <td>...</td>\n",
       "      <td>...</td>\n",
       "      <td>...</td>\n",
       "    </tr>\n",
       "    <tr>\n",
       "      <th>100</th>\n",
       "      <td>Data Annotation</td>\n",
       "      <td>GAP CLOUD -</td>\n",
       "      <td>Maadi, Cairo, Egypt</td>\n",
       "      <td>2 days ago</td>\n",
       "      <td>Full Time</td>\n",
       "    </tr>\n",
       "    <tr>\n",
       "      <th>101</th>\n",
       "      <td>Digital Marketing Manager ( E-commerce )</td>\n",
       "      <td>Confidential -</td>\n",
       "      <td>Cairo, Egypt</td>\n",
       "      <td>2 days ago</td>\n",
       "      <td>Full Time</td>\n",
       "    </tr>\n",
       "    <tr>\n",
       "      <th>102</th>\n",
       "      <td>Front End Developer</td>\n",
       "      <td>Shelter Technology -</td>\n",
       "      <td>Heliopolis, Cairo, Egypt</td>\n",
       "      <td>2 days ago</td>\n",
       "      <td>Full Time</td>\n",
       "    </tr>\n",
       "    <tr>\n",
       "      <th>103</th>\n",
       "      <td>E-commerce operation manager</td>\n",
       "      <td>Confidential -</td>\n",
       "      <td>Cairo, Egypt</td>\n",
       "      <td>2 days ago</td>\n",
       "      <td>Full Time</td>\n",
       "    </tr>\n",
       "    <tr>\n",
       "      <th>104</th>\n",
       "      <td>Content Manager</td>\n",
       "      <td>Confidential -</td>\n",
       "      <td>Cairo, Egypt</td>\n",
       "      <td>2 days ago</td>\n",
       "      <td>Full Time</td>\n",
       "    </tr>\n",
       "  </tbody>\n",
       "</table>\n",
       "<p>105 rows × 5 columns</p>\n",
       "</div>"
      ],
      "text/plain": [
       "                                                 Title               Company  \\\n",
       "0    Customer Service Agent VOIS Non-Cairo\\Giza\\Ale...         _VOIS Egypt -   \n",
       "1                                          Media buyer             Hatolna -   \n",
       "2             Sales Representative - Memberships Cairo    Wadi Degla Group -   \n",
       "3        Purchasing Engineer – Fleet & Heavy Equipment     Elmarakby Steel -   \n",
       "4         Purchasing Engineer – Mechanical Spare Parts     Elmarakby Steel -   \n",
       "..                                                 ...                   ...   \n",
       "100                                    Data Annotation           GAP CLOUD -   \n",
       "101           Digital Marketing Manager ( E-commerce )        Confidential -   \n",
       "102                                Front End Developer  Shelter Technology -   \n",
       "103                       E-commerce operation manager        Confidential -   \n",
       "104                                    Content Manager        Confidential -   \n",
       "\n",
       "                        Location            Time       Type  \n",
       "0                   Cairo, Egypt     2 hours ago  Full Time  \n",
       "1       Heliopolis, Cairo, Egypt      1 hour ago  Full Time  \n",
       "2        Nasr City, Cairo, Egypt  52 minutes ago  Full Time  \n",
       "3    6th of October, Giza, Egypt  49 minutes ago  Full Time  \n",
       "4    6th of October, Giza, Egypt  45 minutes ago  Full Time  \n",
       "..                           ...             ...        ...  \n",
       "100          Maadi, Cairo, Egypt      2 days ago  Full Time  \n",
       "101                 Cairo, Egypt      2 days ago  Full Time  \n",
       "102     Heliopolis, Cairo, Egypt      2 days ago  Full Time  \n",
       "103                 Cairo, Egypt      2 days ago  Full Time  \n",
       "104                 Cairo, Egypt      2 days ago  Full Time  \n",
       "\n",
       "[105 rows x 5 columns]"
      ]
     },
     "execution_count": 13,
     "metadata": {},
     "output_type": "execute_result"
    }
   ],
   "source": [
    "print(AllJobs.shape)\n",
    "AllJobs"
   ]
  },
  {
   "cell_type": "markdown",
   "id": "d17ccd98",
   "metadata": {
    "papermill": {
     "duration": 0.016582,
     "end_time": "2022-07-16T19:05:49.755046",
     "exception": false,
     "start_time": "2022-07-16T19:05:49.738464",
     "status": "completed"
    },
    "tags": []
   },
   "source": [
    "###  Scrape job data on wuzzuf  with Search List \n"
   ]
  },
  {
   "cell_type": "code",
   "execution_count": 14,
   "id": "baa42a0b",
   "metadata": {
    "execution": {
     "iopub.execute_input": "2022-07-16T19:05:49.790317Z",
     "iopub.status.busy": "2022-07-16T19:05:49.790030Z",
     "iopub.status.idle": "2022-07-16T19:05:49.794165Z",
     "shell.execute_reply": "2022-07-16T19:05:49.793237Z"
    },
    "papermill": {
     "duration": 0.023906,
     "end_time": "2022-07-16T19:05:49.796049",
     "exception": false,
     "start_time": "2022-07-16T19:05:49.772143",
     "status": "completed"
    },
    "tags": []
   },
   "outputs": [],
   "source": [
    "# List for search\n",
    "Job_List=['Data Analyst','Power BI']"
   ]
  },
  {
   "cell_type": "code",
   "execution_count": 15,
   "id": "6a4ff48d",
   "metadata": {
    "execution": {
     "iopub.execute_input": "2022-07-16T19:05:49.830934Z",
     "iopub.status.busy": "2022-07-16T19:05:49.830090Z",
     "iopub.status.idle": "2022-07-16T19:05:49.838359Z",
     "shell.execute_reply": "2022-07-16T19:05:49.837408Z"
    },
    "papermill": {
     "duration": 0.027616,
     "end_time": "2022-07-16T19:05:49.840305",
     "exception": false,
     "start_time": "2022-07-16T19:05:49.812689",
     "status": "completed"
    },
    "tags": []
   },
   "outputs": [
    {
     "data": {
      "text/plain": [
       "0"
      ]
     },
     "execution_count": 15,
     "metadata": {},
     "output_type": "execute_result"
    }
   ],
   "source": [
    "# Create DataFrame \"Jobs\" to store data\n",
    "Jobs = pd.DataFrame(columns=[\"Title\",\"Company\",\"Location\",\"Time\",\"Type\",'SearchText'])\n",
    "len(Jobs)"
   ]
  },
  {
   "cell_type": "code",
   "execution_count": 16,
   "id": "a2b610d5",
   "metadata": {
    "execution": {
     "iopub.execute_input": "2022-07-16T19:05:49.876507Z",
     "iopub.status.busy": "2022-07-16T19:05:49.875809Z",
     "iopub.status.idle": "2022-07-16T19:05:49.884701Z",
     "shell.execute_reply": "2022-07-16T19:05:49.883774Z"
    },
    "papermill": {
     "duration": 0.028803,
     "end_time": "2022-07-16T19:05:49.886669",
     "exception": false,
     "start_time": "2022-07-16T19:05:49.857866",
     "status": "completed"
    },
    "tags": []
   },
   "outputs": [
    {
     "data": {
      "text/html": [
       "<div>\n",
       "<style scoped>\n",
       "    .dataframe tbody tr th:only-of-type {\n",
       "        vertical-align: middle;\n",
       "    }\n",
       "\n",
       "    .dataframe tbody tr th {\n",
       "        vertical-align: top;\n",
       "    }\n",
       "\n",
       "    .dataframe thead th {\n",
       "        text-align: right;\n",
       "    }\n",
       "</style>\n",
       "<table border=\"1\" class=\"dataframe\">\n",
       "  <thead>\n",
       "    <tr style=\"text-align: right;\">\n",
       "      <th></th>\n",
       "      <th>Title</th>\n",
       "      <th>Company</th>\n",
       "      <th>Location</th>\n",
       "      <th>Time</th>\n",
       "      <th>Type</th>\n",
       "      <th>SearchText</th>\n",
       "    </tr>\n",
       "  </thead>\n",
       "  <tbody>\n",
       "  </tbody>\n",
       "</table>\n",
       "</div>"
      ],
      "text/plain": [
       "Empty DataFrame\n",
       "Columns: [Title, Company, Location, Time, Type, SearchText]\n",
       "Index: []"
      ]
     },
     "execution_count": 16,
     "metadata": {},
     "output_type": "execute_result"
    }
   ],
   "source": [
    "Jobs"
   ]
  },
  {
   "cell_type": "markdown",
   "id": "884e6c0f",
   "metadata": {
    "papermill": {
     "duration": 0.016812,
     "end_time": "2022-07-16T19:05:49.920590",
     "exception": false,
     "start_time": "2022-07-16T19:05:49.903778",
     "status": "completed"
    },
    "tags": []
   },
   "source": [
    "### Scraper & Store Data in DataFrame"
   ]
  },
  {
   "cell_type": "code",
   "execution_count": 17,
   "id": "9b035f2b",
   "metadata": {
    "execution": {
     "iopub.execute_input": "2022-07-16T19:05:49.956726Z",
     "iopub.status.busy": "2022-07-16T19:05:49.955967Z",
     "iopub.status.idle": "2022-07-16T19:07:50.851246Z",
     "shell.execute_reply": "2022-07-16T19:07:50.850191Z"
    },
    "papermill": {
     "duration": 120.91579,
     "end_time": "2022-07-16T19:07:50.853875",
     "exception": false,
     "start_time": "2022-07-16T19:05:49.938085",
     "status": "completed"
    },
    "tags": []
   },
   "outputs": [],
   "source": [
    "Total_found=1\n",
    "for Job in Job_List :\n",
    "    driver.get(r'https://wuzzuf.net/search/jobs/?q=&a=navbl')\n",
    "    Serach_Input=driver.find_element_by_css_selector(\"input[placeholder='Search by Job Title, Keywords, or Location (e.g. Sales in Cairo)']\")   \n",
    "    Serach_Input.clear()\n",
    "    Serach_Input.send_keys(Job)  \n",
    "    Serach_Input.send_keys(Keys.ENTER)\n",
    "    time.sleep(4)\n",
    "    Jobs_found=driver.find_element_by_css_selector(\"span[class='css-xkh9ud']\").find_element_by_tag_name('strong')    \n",
    "    Total_found=int(Jobs_found.text)+Total_found\n",
    "\n",
    "    while driver.find_element_by_css_selector(\"button[class='css-zye1os ezfki8j0']\"):\n",
    "        if len(Jobs)+1 >= Total_found :\n",
    "            break \n",
    "        count= 1\n",
    "        Job_Elements=driver.find_elements_by_css_selector(\"div[class='css-1gatmva e1v1l3u10']\") \n",
    "        for job in Job_Elements :\n",
    "                job_Title=(job.find_element_by_css_selector(\"a[class='css-o171kl']\").text)\n",
    "                Company=(job.find_element_by_css_selector(\"a[class='css-17s97q8']\").text)\n",
    "                Location=(job.find_element_by_css_selector(\"span[class='css-5wys0k']\").text)               \n",
    "                try :\n",
    "                       Time=(job.find_element_by_css_selector(\"div[class='css-d7j1kk']\").find_element_by_css_selector(\"div\").text)             \n",
    "                except:\n",
    "                      Time ='Null'  \n",
    "                try :\n",
    "                    Type=(job.find_element_by_css_selector(\"span[class='css-1ve4b75 eoyjyou0']\").text)\n",
    "                except:\n",
    "                    Type ='Null' \n",
    "                count=count+1\n",
    "                Jobs = Jobs.append({\"Title\":job_Title, \"Company\":Company, \"Location\":Location, \"Time\":Time,\n",
    "                \"Type\":Type,\"SearchText\":Job}, ignore_index=True)\n",
    "        driver.find_elements_by_css_selector(\"button[class='css-zye1os ezfki8j0']\")[-1].click()\n",
    "        time.sleep(4)"
   ]
  },
  {
   "cell_type": "code",
   "execution_count": 18,
   "id": "ff43c26c",
   "metadata": {
    "execution": {
     "iopub.execute_input": "2022-07-16T19:07:50.891457Z",
     "iopub.status.busy": "2022-07-16T19:07:50.890395Z",
     "iopub.status.idle": "2022-07-16T19:07:50.902320Z",
     "shell.execute_reply": "2022-07-16T19:07:50.901383Z"
    },
    "papermill": {
     "duration": 0.032408,
     "end_time": "2022-07-16T19:07:50.904295",
     "exception": false,
     "start_time": "2022-07-16T19:07:50.871887",
     "status": "completed"
    },
    "tags": []
   },
   "outputs": [
    {
     "data": {
      "text/html": [
       "<div>\n",
       "<style scoped>\n",
       "    .dataframe tbody tr th:only-of-type {\n",
       "        vertical-align: middle;\n",
       "    }\n",
       "\n",
       "    .dataframe tbody tr th {\n",
       "        vertical-align: top;\n",
       "    }\n",
       "\n",
       "    .dataframe thead th {\n",
       "        text-align: right;\n",
       "    }\n",
       "</style>\n",
       "<table border=\"1\" class=\"dataframe\">\n",
       "  <thead>\n",
       "    <tr style=\"text-align: right;\">\n",
       "      <th></th>\n",
       "      <th>Title</th>\n",
       "      <th>Company</th>\n",
       "      <th>Location</th>\n",
       "      <th>Time</th>\n",
       "      <th>Type</th>\n",
       "      <th>SearchText</th>\n",
       "    </tr>\n",
       "  </thead>\n",
       "  <tbody>\n",
       "    <tr>\n",
       "      <th>0</th>\n",
       "      <td>Senior Digital Data Analyst</td>\n",
       "      <td>Jazeera Paints -</td>\n",
       "      <td>10th of Ramadan City, Cairo, Egypt</td>\n",
       "      <td>10 days ago</td>\n",
       "      <td>Full Time</td>\n",
       "      <td>Data Analyst</td>\n",
       "    </tr>\n",
       "    <tr>\n",
       "      <th>1</th>\n",
       "      <td>Data Analyst</td>\n",
       "      <td>Grand Plast -</td>\n",
       "      <td>Salam City, Cairo, Egypt</td>\n",
       "      <td>2 days ago</td>\n",
       "      <td>Full Time</td>\n",
       "      <td>Data Analyst</td>\n",
       "    </tr>\n",
       "    <tr>\n",
       "      <th>2</th>\n",
       "      <td>Senior Data &amp; Web Analyst</td>\n",
       "      <td>Finstek -</td>\n",
       "      <td>New Cairo, Cairo, Egypt</td>\n",
       "      <td>15 days ago</td>\n",
       "      <td>Full Time</td>\n",
       "      <td>Data Analyst</td>\n",
       "    </tr>\n",
       "    <tr>\n",
       "      <th>3</th>\n",
       "      <td>Data analyst</td>\n",
       "      <td>Confidential -</td>\n",
       "      <td>Qalyub, Qalubia, Egypt</td>\n",
       "      <td>26 days ago</td>\n",
       "      <td>Full Time</td>\n",
       "      <td>Data Analyst</td>\n",
       "    </tr>\n",
       "    <tr>\n",
       "      <th>4</th>\n",
       "      <td>Data Analyst</td>\n",
       "      <td>Rashideen Egypt for Trade -</td>\n",
       "      <td>Basatin, Cairo, Egypt</td>\n",
       "      <td>23 days ago</td>\n",
       "      <td>Full Time</td>\n",
       "      <td>Data Analyst</td>\n",
       "    </tr>\n",
       "  </tbody>\n",
       "</table>\n",
       "</div>"
      ],
      "text/plain": [
       "                         Title                      Company  \\\n",
       "0  Senior Digital Data Analyst             Jazeera Paints -   \n",
       "1                 Data Analyst                Grand Plast -   \n",
       "2    Senior Data & Web Analyst                    Finstek -   \n",
       "3                 Data analyst               Confidential -   \n",
       "4                 Data Analyst  Rashideen Egypt for Trade -   \n",
       "\n",
       "                             Location         Time       Type    SearchText  \n",
       "0  10th of Ramadan City, Cairo, Egypt  10 days ago  Full Time  Data Analyst  \n",
       "1            Salam City, Cairo, Egypt   2 days ago  Full Time  Data Analyst  \n",
       "2             New Cairo, Cairo, Egypt  15 days ago  Full Time  Data Analyst  \n",
       "3              Qalyub, Qalubia, Egypt  26 days ago  Full Time  Data Analyst  \n",
       "4               Basatin, Cairo, Egypt  23 days ago  Full Time  Data Analyst  "
      ]
     },
     "execution_count": 18,
     "metadata": {},
     "output_type": "execute_result"
    }
   ],
   "source": [
    "Jobs.head()"
   ]
  },
  {
   "cell_type": "markdown",
   "id": "e6e7499a",
   "metadata": {
    "papermill": {
     "duration": 0.017161,
     "end_time": "2022-07-16T19:07:50.939303",
     "exception": false,
     "start_time": "2022-07-16T19:07:50.922142",
     "status": "completed"
    },
    "tags": []
   },
   "source": [
    "### Data Cleaning"
   ]
  },
  {
   "cell_type": "code",
   "execution_count": 19,
   "id": "25951658",
   "metadata": {
    "execution": {
     "iopub.execute_input": "2022-07-16T19:07:50.977033Z",
     "iopub.status.busy": "2022-07-16T19:07:50.976205Z",
     "iopub.status.idle": "2022-07-16T19:07:50.991651Z",
     "shell.execute_reply": "2022-07-16T19:07:50.990598Z"
    },
    "papermill": {
     "duration": 0.036522,
     "end_time": "2022-07-16T19:07:50.993767",
     "exception": false,
     "start_time": "2022-07-16T19:07:50.957245",
     "status": "completed"
    },
    "tags": []
   },
   "outputs": [],
   "source": [
    "# split Location and Time\n",
    "Jobs[['City', 'State', 'Country']] = Jobs['Location'].str.split(',', expand=True)\n",
    "Jobs[['Period_Num', 'Period', 'Period_Other']] = Jobs['Time'].str.split(' ', expand=True)"
   ]
  },
  {
   "cell_type": "code",
   "execution_count": 20,
   "id": "d84cbd44",
   "metadata": {
    "execution": {
     "iopub.execute_input": "2022-07-16T19:07:51.032344Z",
     "iopub.status.busy": "2022-07-16T19:07:51.030705Z",
     "iopub.status.idle": "2022-07-16T19:07:51.040734Z",
     "shell.execute_reply": "2022-07-16T19:07:51.039928Z"
    },
    "papermill": {
     "duration": 0.030883,
     "end_time": "2022-07-16T19:07:51.042667",
     "exception": false,
     "start_time": "2022-07-16T19:07:51.011784",
     "status": "completed"
    },
    "tags": []
   },
   "outputs": [],
   "source": [
    "#drop  Location','Time','Period_Other\n",
    "Jobs.drop(['Location','Time','Period_Other'],axis=1,inplace=True)\n",
    "#remove - from company name\n",
    "Jobs['Company']=Jobs['Company'].str[:-1]\n"
   ]
  },
  {
   "cell_type": "code",
   "execution_count": 21,
   "id": "498e0d24",
   "metadata": {
    "execution": {
     "iopub.execute_input": "2022-07-16T19:07:51.080299Z",
     "iopub.status.busy": "2022-07-16T19:07:51.078961Z",
     "iopub.status.idle": "2022-07-16T19:07:51.092848Z",
     "shell.execute_reply": "2022-07-16T19:07:51.091835Z"
    },
    "papermill": {
     "duration": 0.034644,
     "end_time": "2022-07-16T19:07:51.094894",
     "exception": false,
     "start_time": "2022-07-16T19:07:51.060250",
     "status": "completed"
    },
    "tags": []
   },
   "outputs": [
    {
     "data": {
      "text/html": [
       "<div>\n",
       "<style scoped>\n",
       "    .dataframe tbody tr th:only-of-type {\n",
       "        vertical-align: middle;\n",
       "    }\n",
       "\n",
       "    .dataframe tbody tr th {\n",
       "        vertical-align: top;\n",
       "    }\n",
       "\n",
       "    .dataframe thead th {\n",
       "        text-align: right;\n",
       "    }\n",
       "</style>\n",
       "<table border=\"1\" class=\"dataframe\">\n",
       "  <thead>\n",
       "    <tr style=\"text-align: right;\">\n",
       "      <th></th>\n",
       "      <th>Title</th>\n",
       "      <th>Company</th>\n",
       "      <th>Type</th>\n",
       "      <th>SearchText</th>\n",
       "      <th>City</th>\n",
       "      <th>State</th>\n",
       "      <th>Country</th>\n",
       "      <th>Period_Num</th>\n",
       "      <th>Period</th>\n",
       "    </tr>\n",
       "  </thead>\n",
       "  <tbody>\n",
       "    <tr>\n",
       "      <th>0</th>\n",
       "      <td>Senior Digital Data Analyst</td>\n",
       "      <td>Jazeera Paints</td>\n",
       "      <td>Full Time</td>\n",
       "      <td>Data Analyst</td>\n",
       "      <td>10th of Ramadan City</td>\n",
       "      <td>Cairo</td>\n",
       "      <td>Egypt</td>\n",
       "      <td>10</td>\n",
       "      <td>days</td>\n",
       "    </tr>\n",
       "    <tr>\n",
       "      <th>1</th>\n",
       "      <td>Data Analyst</td>\n",
       "      <td>Grand Plast</td>\n",
       "      <td>Full Time</td>\n",
       "      <td>Data Analyst</td>\n",
       "      <td>Salam City</td>\n",
       "      <td>Cairo</td>\n",
       "      <td>Egypt</td>\n",
       "      <td>2</td>\n",
       "      <td>days</td>\n",
       "    </tr>\n",
       "    <tr>\n",
       "      <th>2</th>\n",
       "      <td>Senior Data &amp; Web Analyst</td>\n",
       "      <td>Finstek</td>\n",
       "      <td>Full Time</td>\n",
       "      <td>Data Analyst</td>\n",
       "      <td>New Cairo</td>\n",
       "      <td>Cairo</td>\n",
       "      <td>Egypt</td>\n",
       "      <td>15</td>\n",
       "      <td>days</td>\n",
       "    </tr>\n",
       "    <tr>\n",
       "      <th>3</th>\n",
       "      <td>Data analyst</td>\n",
       "      <td>Confidential</td>\n",
       "      <td>Full Time</td>\n",
       "      <td>Data Analyst</td>\n",
       "      <td>Qalyub</td>\n",
       "      <td>Qalubia</td>\n",
       "      <td>Egypt</td>\n",
       "      <td>26</td>\n",
       "      <td>days</td>\n",
       "    </tr>\n",
       "    <tr>\n",
       "      <th>4</th>\n",
       "      <td>Data Analyst</td>\n",
       "      <td>Rashideen Egypt for Trade</td>\n",
       "      <td>Full Time</td>\n",
       "      <td>Data Analyst</td>\n",
       "      <td>Basatin</td>\n",
       "      <td>Cairo</td>\n",
       "      <td>Egypt</td>\n",
       "      <td>23</td>\n",
       "      <td>days</td>\n",
       "    </tr>\n",
       "  </tbody>\n",
       "</table>\n",
       "</div>"
      ],
      "text/plain": [
       "                         Title                     Company       Type  \\\n",
       "0  Senior Digital Data Analyst             Jazeera Paints   Full Time   \n",
       "1                 Data Analyst                Grand Plast   Full Time   \n",
       "2    Senior Data & Web Analyst                    Finstek   Full Time   \n",
       "3                 Data analyst               Confidential   Full Time   \n",
       "4                 Data Analyst  Rashideen Egypt for Trade   Full Time   \n",
       "\n",
       "     SearchText                  City     State Country Period_Num Period  \n",
       "0  Data Analyst  10th of Ramadan City     Cairo   Egypt         10   days  \n",
       "1  Data Analyst            Salam City     Cairo   Egypt          2   days  \n",
       "2  Data Analyst             New Cairo     Cairo   Egypt         15   days  \n",
       "3  Data Analyst                Qalyub   Qalubia   Egypt         26   days  \n",
       "4  Data Analyst               Basatin     Cairo   Egypt         23   days  "
      ]
     },
     "execution_count": 21,
     "metadata": {},
     "output_type": "execute_result"
    }
   ],
   "source": [
    "Jobs.head()"
   ]
  },
  {
   "cell_type": "code",
   "execution_count": 22,
   "id": "d03242ad",
   "metadata": {
    "execution": {
     "iopub.execute_input": "2022-07-16T19:07:51.132115Z",
     "iopub.status.busy": "2022-07-16T19:07:51.131268Z",
     "iopub.status.idle": "2022-07-16T19:07:52.107830Z",
     "shell.execute_reply": "2022-07-16T19:07:52.106885Z"
    },
    "papermill": {
     "duration": 0.997348,
     "end_time": "2022-07-16T19:07:52.110323",
     "exception": false,
     "start_time": "2022-07-16T19:07:51.112975",
     "status": "completed"
    },
    "tags": []
   },
   "outputs": [],
   "source": [
    "import matplotlib.pyplot as plt \n",
    "import seaborn as sns\n",
    "sns.set_theme(style=\"darkgrid\")"
   ]
  },
  {
   "cell_type": "code",
   "execution_count": 23,
   "id": "016d9a81",
   "metadata": {
    "execution": {
     "iopub.execute_input": "2022-07-16T19:07:52.148830Z",
     "iopub.status.busy": "2022-07-16T19:07:52.148368Z",
     "iopub.status.idle": "2022-07-16T19:07:52.481556Z",
     "shell.execute_reply": "2022-07-16T19:07:52.480632Z"
    },
    "papermill": {
     "duration": 0.354103,
     "end_time": "2022-07-16T19:07:52.483457",
     "exception": false,
     "start_time": "2022-07-16T19:07:52.129354",
     "status": "completed"
    },
    "tags": []
   },
   "outputs": [
    {
     "data": {
      "text/plain": [
       "<AxesSubplot:xlabel='count', ylabel='State'>"
      ]
     },
     "execution_count": 23,
     "metadata": {},
     "output_type": "execute_result"
    },
    {
     "data": {
      "image/png": "[encoded data removed]",
      "text/plain": [
       "<Figure size 432x288 with 1 Axes>"
      ]
     },
     "metadata": {},
     "output_type": "display_data"
    }
   ],
   "source": [
    "sns.countplot(y='State',data=Jobs)"
   ]
  },
  {
   "cell_type": "code",
   "execution_count": 24,
   "id": "6f1c8c57",
   "metadata": {
    "execution": {
     "iopub.execute_input": "2022-07-16T19:07:52.521436Z",
     "iopub.status.busy": "2022-07-16T19:07:52.520647Z",
     "iopub.status.idle": "2022-07-16T19:07:52.683982Z",
     "shell.execute_reply": "2022-07-16T19:07:52.682805Z"
    },
    "papermill": {
     "duration": 0.185898,
     "end_time": "2022-07-16T19:07:52.687627",
     "exception": false,
     "start_time": "2022-07-16T19:07:52.501729",
     "status": "completed"
    },
    "tags": []
   },
   "outputs": [
    {
     "data": {
      "text/plain": [
       "<AxesSubplot:xlabel='SearchText', ylabel='count'>"
      ]
     },
     "execution_count": 24,
     "metadata": {},
     "output_type": "execute_result"
    },
    {
     "data": {
      "image/png": "[encoded data removed]",
      "text/plain": [
       "<Figure size 432x288 with 1 Axes>"
      ]
     },
     "metadata": {},
     "output_type": "display_data"
    }
   ],
   "source": [
    "sns.countplot(x='SearchText',data=Jobs)"
   ]
  },
  {
   "cell_type": "code",
   "execution_count": 25,
   "id": "fcd9780f",
   "metadata": {
    "execution": {
     "iopub.execute_input": "2022-07-16T19:07:52.728159Z",
     "iopub.status.busy": "2022-07-16T19:07:52.727874Z",
     "iopub.status.idle": "2022-07-16T19:07:52.736863Z",
     "shell.execute_reply": "2022-07-16T19:07:52.735851Z"
    },
    "papermill": {
     "duration": 0.031633,
     "end_time": "2022-07-16T19:07:52.739549",
     "exception": false,
     "start_time": "2022-07-16T19:07:52.707916",
     "status": "completed"
    },
    "tags": []
   },
   "outputs": [
    {
     "data": {
      "text/plain": [
       "Full Time              233\n",
       "Freelance / Project      4\n",
       "Internship               2\n",
       "Name: Type, dtype: int64"
      ]
     },
     "execution_count": 25,
     "metadata": {},
     "output_type": "execute_result"
    }
   ],
   "source": [
    "Jobs['Type'].value_counts()"
   ]
  },
  {
   "cell_type": "code",
   "execution_count": 26,
   "id": "4b268bd4",
   "metadata": {
    "execution": {
     "iopub.execute_input": "2022-07-16T19:07:52.777653Z",
     "iopub.status.busy": "2022-07-16T19:07:52.776854Z",
     "iopub.status.idle": "2022-07-16T19:07:52.785610Z",
     "shell.execute_reply": "2022-07-16T19:07:52.784714Z"
    },
    "papermill": {
     "duration": 0.029936,
     "end_time": "2022-07-16T19:07:52.787727",
     "exception": false,
     "start_time": "2022-07-16T19:07:52.757791",
     "status": "completed"
    },
    "tags": []
   },
   "outputs": [],
   "source": [
    "import os\n",
    "os.chdir('/kaggle/working')\n",
    "Jobs.to_csv('/kaggle/working/Wuzzuf_Jos.csv')"
   ]
  },
  {
   "cell_type": "code",
   "execution_count": null,
   "id": "a7a7bae3",
   "metadata": {
    "papermill": {
     "duration": 0.01808,
     "end_time": "2022-07-16T19:07:52.824689",
     "exception": false,
     "start_time": "2022-07-16T19:07:52.806609",
     "status": "completed"
    },
    "tags": []
   },
   "outputs": [],
   "source": []
  }
 ],
 "metadata": {
  "kernelspec": {
   "display_name": "Python 3",
   "language": "python",
   "name": "python3"
  },
  "language_info": {
   "codemirror_mode": {
    "name": "ipython",
    "version": 3
   },
   "file_extension": ".py",
   "mimetype": "text/x-python",
   "name": "python",
   "nbconvert_exporter": "python",
   "pygments_lexer": "ipython3",
   "version": "3.7.12"
  },
  "papermill": {
   "default_parameters": {},
   "duration": 241.45268,
   "end_time": "2022-07-16T19:07:55.463345",
   "environment_variables": {},
   "exception": null,
   "input_path": "__notebook__.ipynb",
   "output_path": "__notebook__.ipynb",
   "parameters": {},
   "start_time": "2022-07-16T19:03:54.010665",
   "version": "2.3.4"
  }
 },
 "nbformat": 4,
 "nbformat_minor": 5
}
